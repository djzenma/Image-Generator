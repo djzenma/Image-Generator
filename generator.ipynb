{
 "cells": [
  {
   "cell_type": "code",
   "execution_count": null,
   "outputs": [],
   "source": [
    "from PIL import Image\n",
    "from collections import namedtuple\n",
    "import os\n",
    "import shutil\n"
   ],
   "metadata": {
    "collapsed": false,
    "pycharm": {
     "name": "#%%\n"
    }
   }
  },
  {
   "cell_type": "code",
   "execution_count": null,
   "outputs": [],
   "source": [
    "# Struct\n",
    "Coords = namedtuple('Coords', 'x y')\n",
    "# Enum\n",
    "Position = namedtuple('Position', 'left right')(0, 1)\n",
    "counter = 0\n"
   ],
   "metadata": {
    "collapsed": false,
    "pycharm": {
     "name": "#%%\n"
    }
   }
  },
  {
   "cell_type": "code",
   "execution_count": null,
   "outputs": [],
   "source": [
    "def measures(category):  # returns Rescaling: div_x, div_y, Coordinates: div_x, height\n",
    "    if category == 'Man' or category == 'Woman':\n",
    "        div_x = 2.0\n",
    "        div_y = 0.8\n",
    "        coords_div_x = 2.2\n",
    "        coords_height = 80\n",
    "    elif category == 'Girl' or category == 'Boy':\n",
    "        div_x = 3\n",
    "        div_y = 1.4\n",
    "        coords_div_x = 2.5\n",
    "        coords_height = 220\n",
    "    elif category == 'Babyseat':\n",
    "        div_x = 3\n",
    "        div_y = 1.4\n",
    "        coords_div_x = 2.5\n",
    "        coords_height = 150\n",
    "    else:\n",
    "        div_x = 3\n",
    "        div_y = 2\n",
    "        coords_div_x = 2.5\n",
    "        coords_height = 220\n",
    "\n",
    "    return div_x, div_y, coords_div_x, coords_height\n"
   ],
   "metadata": {
    "collapsed": false,
    "pycharm": {
     "name": "#%%\n"
    }
   }
  },
  {
   "cell_type": "code",
   "execution_count": null,
   "outputs": [],
   "source": [
    "# Paste a the item specified on the bg specified\n",
    "def generate_one(bg_file, item_file, output_file, img_size, item_coords):\n",
    "    # Open the 2 images\n",
    "    back_img = Image.open(bg_file)\n",
    "    item = Image.open(item_file)\n",
    "    category = item_file.split('/')[1]\n",
    "\n",
    "    # TODO::To be refactored\n",
    "    div_x, div_y, _, height = measures(category)\n",
    "    # Resize Them\n",
    "    back_img = back_img.resize((img_size.x, img_size.y), Image.ANTIALIAS)\n",
    "    item = item.resize((int(img_size.x / div_x), int(img_size.y / div_y)),  Image.ANTIALIAS)\n",
    "\n",
    "    # Paste the item on the bg\n",
    "    # TODO:: Change it to (item_coords.x, item_coords.y)\n",
    "    back_img.paste(item, (item_coords.x + 90, height), item)\n",
    "\n",
    "    # Save the result\n",
    "    back_img.save('outputs/' + output_file, quality=95)\n"
   ],
   "metadata": {
    "collapsed": false,
    "pycharm": {
     "name": "#%%\n"
    }
   }
  },
  {
   "cell_type": "code",
   "execution_count": null,
   "outputs": [],
   "source": [
    "# Paste all the items specified on all the bgs specified\n",
    "def generate_all_items_fixed_pos(pos, bg_dir, items_dir, output_dir):\n",
    "    # Get the list of the Backgrounds and the Items\n",
    "    bgs = os.listdir(bg_dir)\n",
    "    items = os.listdir(items_dir)\n",
    "    bgs = [bg for bg in bgs if bg != '.DS_Store']\n",
    "    items = [item for item in items if item != '.DS_Store']\n",
    "    category = items_dir.replace('items/', '')\n",
    "    global counter\n",
    "    # Paste every item in every background on the position specified in the parameter\n",
    "    for bg in bgs:  # For every background\n",
    "        for i in range(0, len(items)):  # Paste every item\n",
    "            # TODO:: To be removed\n",
    "            _, _, div_coord_x, height = measures(category)\n",
    "\n",
    "            # Specify output size & item size\n",
    "            img_size = Coords(960, 640)\n",
    "            item_coord = Coords(pos * int(img_size.x/div_coord_x), height)\n",
    "            item_file = items_dir + '/' + str(items[i])\n",
    "\n",
    "            # output directory\n",
    "            output_file = output_dir + '/' + str(counter) + '.png'\n",
    "            counter += 1\n",
    "            generate_one(bg_dir + '/' + bg, item_file, output_file, img_size, item_coord)\n"
   ],
   "metadata": {
    "collapsed": false,
    "pycharm": {
     "name": "#%%\n"
    }
   }
  },
  {
   "cell_type": "code",
   "execution_count": null,
   "outputs": [],
   "source": [
    "# Generate all items both on the left and on the right of every bg\n",
    "def generate_all():\n",
    "    if os.path.exists('outputs/left_tmp'):\n",
    "        shutil.rmtree('outputs/left_tmp')\n",
    "    if os.path.exists('outputs/right_tmp'):\n",
    "        shutil.rmtree('outputs/right_tmp')\n",
    "\n",
    "    bg_dir = 'background'\n",
    "    items_categories = os.listdir('items')\n",
    "    items_categories = [cat for cat in items_categories if cat != '.DS_Store']\n",
    "    for item_cat in items_categories:\n",
    "        #os.mkdir('outputs/left_tmp')\n",
    "        #os.mkdir('outputs/right_tmp')\n",
    "        items_dir = 'items' + '/' + item_cat\n",
    "        # Paste all items on the left of every bg\n",
    "        generate_all_items_fixed_pos(Position.left, bg_dir, items_dir, 'left')\n",
    "        #generate_all_items_fixed_pos(Position.left, bg_dir, items_dir, 'left_tmp')\n",
    "        # Paste all items on the right of every bg\n",
    "        generate_all_items_fixed_pos(Position.right, bg_dir, items_dir, 'right')\n",
    "        #generate_all_items_fixed_pos(Position.right, bg_dir, items_dir, 'right_tmp')\n",
    "\n",
    "    for item_cat in items_categories:\n",
    "        items_dir = 'items' + '/' + item_cat\n",
    "        # Paste all items on the left of every bg with item on its right\n",
    "        generate_all_items_fixed_pos(Position.left, 'outputs/right', items_dir, 'all')\n",
    "        # Paste all items on the right of every bg with item on its left\n",
    "        generate_all_items_fixed_pos(Position.right, 'outputs/left', items_dir, 'all')\n",
    "        #shutil.rmtree('outputs/left_tmp')\n",
    "        #shutil.rmtree('outputs/right_tmp')\n",
    "        print(\"Finished category: \" + str(item_cat))\n"
   ],
   "metadata": {
    "collapsed": false,
    "pycharm": {
     "name": "#%%\n"
    }
   }
  },
  {
   "cell_type": "code",
   "execution_count": null,
   "outputs": [],
   "source": [
    "print(\"working...\")\n",
    "generate_all()\n",
    "print(\"done\")\n"
   ],
   "metadata": {
    "collapsed": false,
    "pycharm": {
     "name": "#%%\n"
    }
   }
  }
 ],
 "metadata": {
  "language_info": {
   "codemirror_mode": {
    "name": "ipython",
    "version": 2
   },
   "file_extension": ".py",
   "mimetype": "text/x-python",
   "name": "python",
   "nbconvert_exporter": "python",
   "pygments_lexer": "ipython2",
   "version": "2.7.6"
  },
  "kernelspec": {
   "name": "python3",
   "language": "python",
   "display_name": "Python 3"
  },
  "pycharm": {
   "stem_cell": {
    "cell_type": "raw",
    "source": [],
    "metadata": {
     "collapsed": false
    }
   }
  }
 },
 "nbformat": 4,
 "nbformat_minor": 0
}